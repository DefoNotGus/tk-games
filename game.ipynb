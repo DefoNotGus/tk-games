{
 "cells": [
  {
   "cell_type": "markdown",
   "metadata": {},
   "source": [
    "# Fun Game with Name Prompt and Scoring\n",
    "This notebook provides an interactive game built with Tkinter and the Python Imaging Library (PIL). After each game session, it records the player's name and time taken to complete the game in a text file (`score.txt`). Scores are then displayed in order from the quickest to slowest."
   ]
  },
  {
   "cell_type": "markdown",
   "metadata": {},
   "source": [
    "## Library Imports\n",
    "\n",
    "- `tkinter`: Used for creating GUI applications in Python.\n",
    "- `messagebox` and `simpledialog` from `tkinter`: For displaying information dialogs and input dialogs.\n",
    "- `Image` and `ImageTk` from `PIL`: To handle images, including loading and manipulating them before displaying them in Tkinter.\n",
    "- `time`: Provides time-related functions, especially to calculate the time taken to complete the game."
   ]
  },
  {
   "cell_type": "code",
   "execution_count": 1,
   "metadata": {
    "slideshow": {
     "slide_type": "slide"
    }
   },
   "outputs": [],
   "source": [
    "import tkinter as tk\n",
    "from tkinter import messagebox, simpledialog\n",
    "from PIL import Image, ImageTk\n",
    "import time"
   ]
  },
  {
   "cell_type": "markdown",
   "metadata": {},
   "source": [
    "## GameApp Class\n",
    "The `GameApp` class defines the main game application. It contains methods to initialize the game, display the main menu, start different game levels, and display scores.\n",
    "\n",
    "- **Attributes**\n",
    "  - `self.root`: The main Tkinter window.\n",
    "  - `self.score`: Tracks the player's score.\n",
    "  - `self.start_time`: Stores the start time of the game.\n",
    "  - `self.player_name`: Stores the player's name inputted at the beginning."
   ]
  },
  {
   "cell_type": "code",
   "execution_count": 2,
   "metadata": {
    "slideshow": {
     "slide_type": "slide"
    }
   },
   "outputs": [],
   "source": [
    "class GameApp:\n",
    "    def __init__(self, root):\n",
    "        self.root = root\n",
    "        self.root.title(\"Fun Game\")\n",
    "        self.root.geometry(\"400x300\")\n",
    "        self.score = 0  # Initialize the score\n",
    "        self.start_time = None\n",
    "        self.player_name = \"\"\n",
    "        \n",
    "        # Main menu setup\n",
    "        self.main_menu()"
   ]
  },
  {
   "cell_type": "markdown",
   "metadata": {},
   "source": [
    "### main_menu Method\n",
    "This method sets up the main menu screen, which includes:\n",
    "- A title label.\n",
    "- A start button that prompts the player for their name and starts the game timer.\n",
    "- A score button that displays the recorded scores from the `score.txt` file."
   ]
  },
  {
   "cell_type": "code",
   "execution_count": 3,
   "metadata": {
    "slideshow": {
     "slide_type": "slide"
    }
   },
   "outputs": [],
   "source": [
    "def main_menu(self):\n",
    "    # Clear the window for the main menu\n",
    "    for widget in self.root.winfo_children():\n",
    "        widget.destroy()\n",
    "\n",
    "    # Title\n",
    "    title = tk.Label(self.root, text=\"Welcome to the Fun Game!\", font=(\"Arial\", 16))\n",
    "    title.pack(pady=20)\n",
    "\n",
    "    # Start Button\n",
    "    start_button = tk.Button(self.root, text=\"Start\", command=self.get_player_name, font=(\"Arial\", 14))\n",
    "    start_button.pack(pady=10)\n",
    "\n",
    "    # Score Button\n",
    "    score_button = tk.Button(self.root, text=\"Score\", command=self.show_score, font=(\"Arial\", 14))\n",
    "    score_button.pack(pady=10)"
   ]
  },
  {
   "cell_type": "markdown",
   "metadata": {},
   "source": [
    "### get_player_name Method\n",
    "Prompts the player to input their name and starts the game timer using `time.time()`."
   ]
  },
  {
   "cell_type": "code",
   "execution_count": 4,
   "metadata": {
    "slideshow": {
     "slide_type": "slide"
    }
   },
   "outputs": [],
   "source": [
    "def get_player_name(self):\n",
    "    # Prompt for the player's name\n",
    "    self.player_name = simpledialog.askstring(\"Name\", \"Enter your name:\")\n",
    "    if self.player_name:\n",
    "        self.start_time = time.time()  # Start the timer\n",
    "        self.start_level_1()"
   ]
  },
  {
   "cell_type": "markdown",
   "metadata": {},
   "source": [
    "### show_score Method\n",
    "Displays recorded scores sorted by time in a messagebox."
   ]
  },
  {
   "cell_type": "code",
   "execution_count": 5,
   "metadata": {
    "slideshow": {
     "slide_type": "slide"
    }
   },
   "outputs": [],
   "source": [
    "def show_score(self):\n",
    "    # Read scores from score.txt and display them sorted by time\n",
    "    try:\n",
    "        with open(\"score.txt\", \"r\") as file:\n",
    "            scores = [line.strip().split(\",\") for line in file]\n",
    "        # Sort scores by time (second column, as float)\n",
    "        scores.sort(key=lambda x: float(x[1]))\n",
    "        # Display scores\n",
    "        score_message = \"\\n\".join([f\"{name}: {time}s\" for name, time in scores])\n",
    "        messagebox.showinfo(\"Scores\", score_message)\n",
    "    except FileNotFoundError:\n",
    "        messagebox.showinfo(\"Scores\", \"No scores recorded yet.\")"
   ]
  },
  {
   "cell_type": "markdown",
   "metadata": {},
   "source": [
    "### start_level_1 and level_1 Methods\n",
    "`start_level_1` calls `level_1`, where the player answers a question. The correct answer allows progression to the next level."
   ]
  },
  {
   "cell_type": "code",
   "execution_count": 6,
   "metadata": {
    "slideshow": {
     "slide_type": "slide"
    }
   },
   "outputs": [],
   "source": [
    "def start_level_1(self):\n",
    "    # Move to level 1\n",
    "    self.level_1()\n",
    "\n",
    "def level_1(self):\n",
    "    # Clear the window for level 1\n",
    "    for widget in self.root.winfo_children():\n",
    "        widget.destroy()\n",
    "\n",
    "    # Question and options for level 1\n",
    "    question_label = tk.Label(self.root, text=\"What is the capital of France?\", font=(\"Arial\", 14))\n",
    "    question_label.pack(pady=20)\n",
    "\n",
    "    # Options for the quiz question\n",
    "    options = [(\"Berlin\", False), (\"Paris\", True), (\"London\", False), (\"Rome\", False)]\n",
    "    for option_text, is_correct in options:\n",
    "        button = tk.Button(self.root, text=option_text, command=lambda correct=is_correct: self.check_answer(correct, next_level=self.level_2))\n",
    "        button.pack(pady=5)"
   ]
  },
  {
   "cell_type": "markdown",
   "metadata": {},
   "source": [
    "## Other Level Methods\n",
    "- `level_2`, `level_3`, and `check_click` handle additional game levels.\n",
    "- `save_score`: Stores player’s name and time in `score.txt`."
   ]
  },
  {
   "cell_type": "markdown",
   "metadata": {},
   "source": [
    "### level_2 Method\n",
    "In `level_2`, the player must select the two largest planets. It introduces a multiple-selection question:\n",
    "\n",
    "- A `Checkbutton` widget allows the player to make multiple choices.\n",
    "- The player's selected answers are stored in `self.selected_answers`."
   ]
  },
  {
   "cell_type": "code",
   "execution_count": 7,
   "metadata": {
    "slideshow": {
     "slide_type": "slide"
    }
   },
   "outputs": [],
   "source": [
    "def level_2(self):\n",
    "    # Clear the window for level 2 by removing all existing widgets\n",
    "    for widget in self.root.winfo_children():\n",
    "        widget.destroy()\n",
    "\n",
    "    # Set up a question with multiple answers for level 2\n",
    "    question_label = tk.Label(self.root, text=\"Select the two largest planets:\", font=(\"Arial\", 14))\n",
    "    question_label.pack(pady=20)\n",
    "\n",
    "    # Define the multiple-choice options with a tuple of text and whether it's a correct answer\n",
    "    options = [\n",
    "        (\"Earth\", False), (\"Jupiter\", True), (\"Mars\", False),\n",
    "        (\"Venus\", False), (\"Saturn\", True), (\"Mercury\", False)\n",
    "    ]\n",
    "    self.selected_options = []  # Initialize the list to keep track of selected options\n",
    "\n",
    "    # Display each option with a Checkbutton widget\n",
    "    for option_text, is_correct in options:\n",
    "        button = tk.Checkbutton(\n",
    "            self.root,\n",
    "            text=option_text,\n",
    "            command=lambda text=option_text, correct=is_correct: self.select_option(text, correct, next_level=self.level_3)\n",
    "        )\n",
    "        button.pack(pady=5)  # Add some padding around each button for spacing\n"
   ]
  },
  {
   "cell_type": "markdown",
   "metadata": {},
   "source": [
    "Now using the options list [] we will compare the answers to check they are correct."
   ]
  },
  {
   "cell_type": "code",
   "execution_count": 8,
   "metadata": {
    "slideshow": {
     "slide_type": "slide"
    }
   },
   "outputs": [],
   "source": [
    "def select_option(self, text, is_correct, next_level):\n",
    "    # Add or remove option from the selection based on whether it was clicked\n",
    "    if text not in self.selected_options:\n",
    "        self.selected_options.append((text, is_correct))\n",
    "    else:\n",
    "        self.selected_options.remove((text, is_correct))\n",
    "\n",
    "    # Check if the player has selected two options\n",
    "    if len(self.selected_options) == 2:\n",
    "        # If both selected answers are correct, show success message and proceed to the next level\n",
    "        if all(correct for _, correct in self.selected_options):\n",
    "            self.score += 1  # Increase score\n",
    "            messagebox.showinfo(\"Correct!\", \"Nice job!\")\n",
    "            next_level()  # Move to the next level\n",
    "        else:\n",
    "            # If one or both answers are incorrect, show failure message and return to main menu\n",
    "            messagebox.showinfo(\"Incorrect\", \"That's not quite right!\")\n",
    "            self.main_menu()\n"
   ]
  },
  {
   "cell_type": "markdown",
   "metadata": {},
   "source": [
    "### level_3 Method\n",
    "`level_3` displays `forrest.png` with the hidden `monkey.png`. Clicking on the center spot completes the game."
   ]
  },
  {
   "cell_type": "code",
   "execution_count": 9,
   "metadata": {
    "slideshow": {
     "slide_type": "slide"
    }
   },
   "outputs": [],
   "source": [
    "def level_3(self):\n",
    "    # Clear the window for level 3 by removing all existing widgets\n",
    "    for widget in self.root.winfo_children():\n",
    "        widget.destroy()\n",
    "\n",
    "    # Display an instruction label for finding the hidden image\n",
    "    instruction_label = tk.Label(self.root, text=\"Find the hidden Monkey in the image\", font=(\"Arial\", 14))\n",
    "    instruction_label.pack(pady=20)\n",
    "\n",
    "    # Load the main background image and the overlay image (monkey)\n",
    "    self.full_image = Image.open(\"forrest.png\")\n",
    "    self.overlay_image = Image.open(\"monkey.png\")\n",
    "\n",
    "    # Calculate the center coordinates for placing the overlay image\n",
    "    x = (self.full_image.width - self.overlay_image.width) // 2\n",
    "    y = (self.full_image.height - self.overlay_image.height) // 2\n",
    "\n",
    "    # Overlay the monkey image at the center of the background image\n",
    "    self.full_image.paste(self.overlay_image, (x, y))\n",
    "\n",
    "    # Convert the image to a format that Tkinter can display\n",
    "    self.display_image = ImageTk.PhotoImage(self.full_image)\n",
    "\n",
    "    # Display the image in a Label widget\n",
    "    self.image_label = tk.Label(self.root, image=self.display_image)\n",
    "    self.image_label.pack(pady=10)\n",
    "\n",
    "    # Bind a click event to check if the user clicks within the hidden area\n",
    "    self.image_label.bind(\"<Button-1>\", self.check_click)"
   ]
  },
  {
   "cell_type": "markdown",
   "metadata": {},
   "source": [
    "Now we need to check that the click is correct!"
   ]
  },
  {
   "cell_type": "code",
   "execution_count": 10,
   "metadata": {
    "slideshow": {
     "slide_type": "slide"
    }
   },
   "outputs": [],
   "source": [
    "def check_click(self, event):\n",
    "    # Define the bounds of the overlayed \"monkey\" area\n",
    "    x_start = (self.full_image.width - self.overlay_image.width) // 2\n",
    "    y_start = (self.full_image.height - self.overlay_image.height) // 2\n",
    "    x_end = x_start + self.overlay_image.width\n",
    "    y_end = y_start + self.overlay_image.height\n",
    "\n",
    "    # Check if the click coordinates are within the bounds of the overlay image\n",
    "    if x_start <= event.x <= x_end and y_start <= event.y <= y_end:\n",
    "        self.score += 1  # Increase score for finding the hidden object\n",
    "        end_time = time.time()  # Capture end time\n",
    "        time_taken = round(end_time - self.start_time, 2)  # Calculate total time taken\n",
    "        messagebox.showinfo(\"Found!\", \"You found the Monkey!\")  # Show success message\n",
    "        self.save_score(self.player_name, time_taken)  # Save the score to a file\n",
    "        self.main_menu()  # Return to the main menu\n",
    "    else:\n",
    "        # If the click is outside the bounds, prompt the user to try again\n",
    "        messagebox.showinfo(\"Try Again\", \"That's not the right spot!\")"
   ]
  },
  {
   "cell_type": "markdown",
   "metadata": {},
   "source": [
    "We can see that we ran the function save_score. Now we need to define what def save_score is! This function moves all the data to score.txt"
   ]
  },
  {
   "cell_type": "markdown",
   "metadata": {},
   "source": [
    "def save_score(self, name, time_taken):\n",
    "    # Open the score file and append the player's name and time taken\n",
    "    with open(\"score.txt\", \"a\") as file:\n",
    "        file.write(f\"{name},{time_taken}\\n\")"
   ]
  }
 ],
 "metadata": {
  "kernelspec": {
   "display_name": ".venv",
   "language": "python",
   "name": "python3"
  },
  "language_info": {
   "codemirror_mode": {
    "name": "ipython",
    "version": 3
   },
   "file_extension": ".py",
   "mimetype": "text/x-python",
   "name": "python",
   "nbconvert_exporter": "python",
   "pygments_lexer": "ipython3",
   "version": "3.12.5"
  }
 },
 "nbformat": 4,
 "nbformat_minor": 2
}
